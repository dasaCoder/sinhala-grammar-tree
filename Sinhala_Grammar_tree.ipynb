{
  "nbformat": 4,
  "nbformat_minor": 0,
  "metadata": {
    "kernelspec": {
      "display_name": "Python 3",
      "language": "python",
      "name": "python3"
    },
    "language_info": {
      "codemirror_mode": {
        "name": "ipython",
        "version": 3
      },
      "file_extension": ".py",
      "mimetype": "text/x-python",
      "name": "python",
      "nbconvert_exporter": "python",
      "pygments_lexer": "ipython3",
      "version": "3.7.3"
    },
    "colab": {
      "name": "Sinhala Grammar tree.ipynb",
      "provenance": [],
      "collapsed_sections": [],
      "include_colab_link": true
    }
  },
  "cells": [
    {
      "cell_type": "markdown",
      "metadata": {
        "id": "view-in-github",
        "colab_type": "text"
      },
      "source": [
        "<a href=\"https://colab.research.google.com/github/dasaCoder/sinhala-grammar-tree/blob/master/Sinhala_Grammar_tree.ipynb\" target=\"_parent\"><img src=\"https://colab.research.google.com/assets/colab-badge.svg\" alt=\"Open In Colab\"/></a>"
      ]
    },
    {
      "cell_type": "code",
      "metadata": {
        "id": "slbv21D6jJug",
        "colab_type": "code",
        "colab": {}
      },
      "source": [
        "import pandas as pd"
      ],
      "execution_count": 0,
      "outputs": []
    },
    {
      "cell_type": "markdown",
      "metadata": {
        "id": "Ztl1EkFjm0SG",
        "colab_type": "text"
      },
      "source": [
        ""
      ]
    },
    {
      "cell_type": "code",
      "metadata": {
        "id": "d1sW2A35jNpU",
        "colab_type": "code",
        "outputId": "026ce114-6875-450a-8a10-e80a84750da2",
        "colab": {
          "base_uri": "https://localhost:8080/",
          "height": 139
        }
      },
      "source": [
        "#for local file upload\n",
        "#from google.colab import files\n",
        "#uploaded = files.upload()\n",
        "\n",
        "#for google drive file upload\n",
        "from google.colab import drive\n",
        "drive.mount('/gdrive')\n",
        "\n",
        "%cd /gdrive"
      ],
      "execution_count": 0,
      "outputs": [
        {
          "output_type": "stream",
          "text": [
            "Go to this URL in a browser: https://accounts.google.com/o/oauth2/auth?client_id=947318989803-6bn6qk8qdgf4n4g3pfee6491hc0brc4i.apps.googleusercontent.com&redirect_uri=urn%3aietf%3awg%3aoauth%3a2.0%3aoob&response_type=code&scope=email%20https%3a%2f%2fwww.googleapis.com%2fauth%2fdocs.test%20https%3a%2f%2fwww.googleapis.com%2fauth%2fdrive%20https%3a%2f%2fwww.googleapis.com%2fauth%2fdrive.photos.readonly%20https%3a%2f%2fwww.googleapis.com%2fauth%2fpeopleapi.readonly\n",
            "\n",
            "Enter your authorization code:\n",
            "··········\n",
            "Mounted at /gdrive\n",
            "/gdrive\n"
          ],
          "name": "stdout"
        }
      ]
    },
    {
      "cell_type": "code",
      "metadata": {
        "id": "4Oyt3RNZzuhR",
        "colab_type": "code",
        "outputId": "dce46b1e-16a9-48f9-9270-bcd4b54f19b1",
        "colab": {
          "base_uri": "https://localhost:8080/",
          "height": 34
        }
      },
      "source": [
        "from google.colab import drive\n",
        "drive.mount('/content/drive')"
      ],
      "execution_count": 0,
      "outputs": [
        {
          "output_type": "stream",
          "text": [
            "Mounted at /content/drive\n"
          ],
          "name": "stdout"
        }
      ]
    },
    {
      "cell_type": "code",
      "metadata": {
        "id": "dgFr2mNXjmga",
        "colab_type": "code",
        "colab": {}
      },
      "source": [
        "#for local file upload\n",
        "#import io\n",
        "#df2 = pd.read_csv(io.BytesIO(uploaded['sinhala_grammar(1).xlsx']))\n",
        "\n",
        "#for google drive file upload\n",
        "file = r'/content/drive/My Drive/Research my Work update/sinhala_grammar.csv'\n",
        "df = pd.read_csv(file)\n",
        "\n",
        "df = df.dropna(how='all', axis='columns')"
      ],
      "execution_count": 0,
      "outputs": []
    },
    {
      "cell_type": "code",
      "metadata": {
        "id": "OfdMgL2MjJu_",
        "colab_type": "code",
        "outputId": "566d57bd-a3e4-4f7c-fa95-10b09c946b9c",
        "colab": {
          "base_uri": "https://localhost:8080/",
          "height": 266
        }
      },
      "source": [
        "#local file print\n",
        "#df = pd.read_csv(\"sinhala_grammar.csv\")\n",
        "df[0:7]"
      ],
      "execution_count": 0,
      "outputs": [
        {
          "output_type": "execute_result",
          "data": {
            "text/html": [
              "<div>\n",
              "<style scoped>\n",
              "    .dataframe tbody tr th:only-of-type {\n",
              "        vertical-align: middle;\n",
              "    }\n",
              "\n",
              "    .dataframe tbody tr th {\n",
              "        vertical-align: top;\n",
              "    }\n",
              "\n",
              "    .dataframe thead th {\n",
              "        text-align: right;\n",
              "    }\n",
              "</style>\n",
              "<table border=\"1\" class=\"dataframe\">\n",
              "  <thead>\n",
              "    <tr style=\"text-align: right;\">\n",
              "      <th></th>\n",
              "      <th>subject</th>\n",
              "      <th>tense</th>\n",
              "      <th>person</th>\n",
              "      <th>gender</th>\n",
              "      <th>animate</th>\n",
              "      <th>number</th>\n",
              "      <th>verb_root</th>\n",
              "      <th>is_correct</th>\n",
              "    </tr>\n",
              "  </thead>\n",
              "  <tbody>\n",
              "    <tr>\n",
              "      <th>0</th>\n",
              "      <td>මම</td>\n",
              "      <td>වර්තමාන</td>\n",
              "      <td>උත්තම</td>\n",
              "      <td>නොමැත</td>\n",
              "      <td>ප්‍රාණවාචි</td>\n",
              "      <td>ඒක</td>\n",
              "      <td>අමි</td>\n",
              "      <td>1</td>\n",
              "    </tr>\n",
              "    <tr>\n",
              "      <th>1</th>\n",
              "      <td>මම</td>\n",
              "      <td>වර්තමාන</td>\n",
              "      <td>උත්තම</td>\n",
              "      <td>නොමැත</td>\n",
              "      <td>ප්‍රාණවාචි</td>\n",
              "      <td>බහු</td>\n",
              "      <td>අමි</td>\n",
              "      <td>0</td>\n",
              "    </tr>\n",
              "    <tr>\n",
              "      <th>2</th>\n",
              "      <td>මම</td>\n",
              "      <td>වර්තමාන</td>\n",
              "      <td>උත්තම</td>\n",
              "      <td>නොමැත</td>\n",
              "      <td>අප්‍රාණවාචි</td>\n",
              "      <td>ඒක</td>\n",
              "      <td>අමි</td>\n",
              "      <td>0</td>\n",
              "    </tr>\n",
              "    <tr>\n",
              "      <th>3</th>\n",
              "      <td>මම</td>\n",
              "      <td>වර්තමාන</td>\n",
              "      <td>උත්තම</td>\n",
              "      <td>නොමැත</td>\n",
              "      <td>අප්‍රාණවාචි</td>\n",
              "      <td>බහු</td>\n",
              "      <td>අමි</td>\n",
              "      <td>0</td>\n",
              "    </tr>\n",
              "    <tr>\n",
              "      <th>4</th>\n",
              "      <td>මම</td>\n",
              "      <td>වර්තමාන</td>\n",
              "      <td>උත්තම</td>\n",
              "      <td>නපුංසක</td>\n",
              "      <td>ප්‍රාණවාචි</td>\n",
              "      <td>ඒක</td>\n",
              "      <td>අමි</td>\n",
              "      <td>0</td>\n",
              "    </tr>\n",
              "    <tr>\n",
              "      <th>5</th>\n",
              "      <td>මම</td>\n",
              "      <td>වර්තමාන</td>\n",
              "      <td>උත්තම</td>\n",
              "      <td>නපුංසක</td>\n",
              "      <td>ප්‍රාණවාචි</td>\n",
              "      <td>බහු</td>\n",
              "      <td>අමි</td>\n",
              "      <td>0</td>\n",
              "    </tr>\n",
              "    <tr>\n",
              "      <th>6</th>\n",
              "      <td>මම</td>\n",
              "      <td>වර්තමාන</td>\n",
              "      <td>උත්තම</td>\n",
              "      <td>නපුංසක</td>\n",
              "      <td>අප්‍රාණවාචි</td>\n",
              "      <td>ඒක</td>\n",
              "      <td>අමි</td>\n",
              "      <td>0</td>\n",
              "    </tr>\n",
              "  </tbody>\n",
              "</table>\n",
              "</div>"
            ],
            "text/plain": [
              "  subject    tense person  gender      animate number verb_root  is_correct\n",
              "0      මම  වර්තමාන  උත්තම   නොමැත   ප්‍රාණවාචි     ඒක       අමි           1\n",
              "1      මම  වර්තමාන  උත්තම   නොමැත   ප්‍රාණවාචි    බහු       අමි           0\n",
              "2      මම  වර්තමාන  උත්තම   නොමැත  අප්‍රාණවාචි     ඒක       අමි           0\n",
              "3      මම  වර්තමාන  උත්තම   නොමැත  අප්‍රාණවාචි    බහු       අමි           0\n",
              "4      මම  වර්තමාන  උත්තම  නපුංසක   ප්‍රාණවාචි     ඒක       අමි           0\n",
              "5      මම  වර්තමාන  උත්තම  නපුංසක   ප්‍රාණවාචි    බහු       අමි           0\n",
              "6      මම  වර්තමාන  උත්තම  නපුංසක  අප්‍රාණවාචි     ඒක       අමි           0"
            ]
          },
          "metadata": {
            "tags": []
          },
          "execution_count": 5
        }
      ]
    },
    {
      "cell_type": "code",
      "metadata": {
        "id": "trPIMpEwjJvN",
        "colab_type": "code",
        "colab": {}
      },
      "source": [
        "inputs = df.drop('is_correct',axis='columns')\n",
        "target = df['is_correct']"
      ],
      "execution_count": 0,
      "outputs": []
    },
    {
      "cell_type": "code",
      "metadata": {
        "id": "pm7LwxjnjJvW",
        "colab_type": "code",
        "outputId": "46bbc459-8b69-4e66-e180-8d1f77cc3055",
        "colab": {
          "base_uri": "https://localhost:8080/",
          "height": 204
        }
      },
      "source": [
        "inputs[:5]"
      ],
      "execution_count": 0,
      "outputs": [
        {
          "output_type": "execute_result",
          "data": {
            "text/html": [
              "<div>\n",
              "<style scoped>\n",
              "    .dataframe tbody tr th:only-of-type {\n",
              "        vertical-align: middle;\n",
              "    }\n",
              "\n",
              "    .dataframe tbody tr th {\n",
              "        vertical-align: top;\n",
              "    }\n",
              "\n",
              "    .dataframe thead th {\n",
              "        text-align: right;\n",
              "    }\n",
              "</style>\n",
              "<table border=\"1\" class=\"dataframe\">\n",
              "  <thead>\n",
              "    <tr style=\"text-align: right;\">\n",
              "      <th></th>\n",
              "      <th>subject</th>\n",
              "      <th>tense</th>\n",
              "      <th>person</th>\n",
              "      <th>gender</th>\n",
              "      <th>animate</th>\n",
              "      <th>number</th>\n",
              "      <th>verb_root</th>\n",
              "    </tr>\n",
              "  </thead>\n",
              "  <tbody>\n",
              "    <tr>\n",
              "      <th>0</th>\n",
              "      <td>මම</td>\n",
              "      <td>වර්තමාන</td>\n",
              "      <td>උත්තම</td>\n",
              "      <td>නොමැත</td>\n",
              "      <td>ප්‍රාණවාචි</td>\n",
              "      <td>ඒක</td>\n",
              "      <td>අමි</td>\n",
              "    </tr>\n",
              "    <tr>\n",
              "      <th>1</th>\n",
              "      <td>මම</td>\n",
              "      <td>වර්තමාන</td>\n",
              "      <td>උත්තම</td>\n",
              "      <td>නොමැත</td>\n",
              "      <td>ප්‍රාණවාචි</td>\n",
              "      <td>බහු</td>\n",
              "      <td>අමි</td>\n",
              "    </tr>\n",
              "    <tr>\n",
              "      <th>2</th>\n",
              "      <td>මම</td>\n",
              "      <td>වර්තමාන</td>\n",
              "      <td>උත්තම</td>\n",
              "      <td>නොමැත</td>\n",
              "      <td>අප්‍රාණවාචි</td>\n",
              "      <td>ඒක</td>\n",
              "      <td>අමි</td>\n",
              "    </tr>\n",
              "    <tr>\n",
              "      <th>3</th>\n",
              "      <td>මම</td>\n",
              "      <td>වර්තමාන</td>\n",
              "      <td>උත්තම</td>\n",
              "      <td>නොමැත</td>\n",
              "      <td>අප්‍රාණවාචි</td>\n",
              "      <td>බහු</td>\n",
              "      <td>අමි</td>\n",
              "    </tr>\n",
              "    <tr>\n",
              "      <th>4</th>\n",
              "      <td>මම</td>\n",
              "      <td>වර්තමාන</td>\n",
              "      <td>උත්තම</td>\n",
              "      <td>නපුංසක</td>\n",
              "      <td>ප්‍රාණවාචි</td>\n",
              "      <td>ඒක</td>\n",
              "      <td>අමි</td>\n",
              "    </tr>\n",
              "  </tbody>\n",
              "</table>\n",
              "</div>"
            ],
            "text/plain": [
              "  subject    tense person  gender      animate number verb_root\n",
              "0      මම  වර්තමාන  උත්තම   නොමැත   ප්‍රාණවාචි     ඒක       අමි\n",
              "1      මම  වර්තමාන  උත්තම   නොමැත   ප්‍රාණවාචි    බහු       අමි\n",
              "2      මම  වර්තමාන  උත්තම   නොමැත  අප්‍රාණවාචි     ඒක       අමි\n",
              "3      මම  වර්තමාන  උත්තම   නොමැත  අප්‍රාණවාචි    බහු       අමි\n",
              "4      මම  වර්තමාන  උත්තම  නපුංසක   ප්‍රාණවාචි     ඒක       අමි"
            ]
          },
          "metadata": {
            "tags": []
          },
          "execution_count": 7
        }
      ]
    },
    {
      "cell_type": "code",
      "metadata": {
        "id": "6fz1tw5CjJvb",
        "colab_type": "code",
        "colab": {}
      },
      "source": [
        "from sklearn.preprocessing import LabelEncoder\n",
        "\n"
      ],
      "execution_count": 0,
      "outputs": []
    },
    {
      "cell_type": "code",
      "metadata": {
        "id": "WrbPSzdejJvh",
        "colab_type": "code",
        "colab": {}
      },
      "source": [
        "subject = LabelEncoder()\n",
        "tense = LabelEncoder()\n",
        "person = LabelEncoder()\n",
        "gender = LabelEncoder()\n",
        "animate = LabelEncoder()\n",
        "number = LabelEncoder()\n",
        "verb_root = LabelEncoder()"
      ],
      "execution_count": 0,
      "outputs": []
    },
    {
      "cell_type": "code",
      "metadata": {
        "id": "EP9j0dWfjJvm",
        "colab_type": "code",
        "colab": {}
      },
      "source": [
        "inputs['subject_en'] = subject.fit_transform(inputs['subject'])\n",
        "inputs['tense_en'] = tense.fit_transform(inputs['tense'])\n",
        "inputs['person_en'] = person.fit_transform(inputs['person'])\n",
        "inputs['gender_en'] = gender.fit_transform(inputs['gender'])\n",
        "inputs['animate_en'] = animate.fit_transform(inputs['animate'])\n",
        "inputs['number_en'] = number.fit_transform(inputs['number'])\n",
        "inputs['verb_root_en'] = verb_root.fit_transform(inputs['verb_root'])\n",
        "#inputs.head()"
      ],
      "execution_count": 0,
      "outputs": []
    },
    {
      "cell_type": "code",
      "metadata": {
        "id": "kd-BoZybjJvr",
        "colab_type": "code",
        "outputId": "5eb150e8-5ec2-4a33-e981-1eba3f3fb637",
        "colab": {
          "base_uri": "https://localhost:8080/",
          "height": 419
        }
      },
      "source": [
        "encoded_inputs = inputs.drop(['subject','tense','gender','animate','number','verb_root','person'],axis='columns')\n",
        "encoded_inputs"
      ],
      "execution_count": 0,
      "outputs": [
        {
          "output_type": "execute_result",
          "data": {
            "text/html": [
              "<div>\n",
              "<style scoped>\n",
              "    .dataframe tbody tr th:only-of-type {\n",
              "        vertical-align: middle;\n",
              "    }\n",
              "\n",
              "    .dataframe tbody tr th {\n",
              "        vertical-align: top;\n",
              "    }\n",
              "\n",
              "    .dataframe thead th {\n",
              "        text-align: right;\n",
              "    }\n",
              "</style>\n",
              "<table border=\"1\" class=\"dataframe\">\n",
              "  <thead>\n",
              "    <tr style=\"text-align: right;\">\n",
              "      <th></th>\n",
              "      <th>subject_en</th>\n",
              "      <th>tense_en</th>\n",
              "      <th>person_en</th>\n",
              "      <th>gender_en</th>\n",
              "      <th>animate_en</th>\n",
              "      <th>number_en</th>\n",
              "      <th>verb_root_en</th>\n",
              "    </tr>\n",
              "  </thead>\n",
              "  <tbody>\n",
              "    <tr>\n",
              "      <th>0</th>\n",
              "      <td>32</td>\n",
              "      <td>2</td>\n",
              "      <td>0</td>\n",
              "      <td>1</td>\n",
              "      <td>1</td>\n",
              "      <td>0</td>\n",
              "      <td>8</td>\n",
              "    </tr>\n",
              "    <tr>\n",
              "      <th>1</th>\n",
              "      <td>32</td>\n",
              "      <td>2</td>\n",
              "      <td>0</td>\n",
              "      <td>1</td>\n",
              "      <td>1</td>\n",
              "      <td>1</td>\n",
              "      <td>8</td>\n",
              "    </tr>\n",
              "    <tr>\n",
              "      <th>2</th>\n",
              "      <td>32</td>\n",
              "      <td>2</td>\n",
              "      <td>0</td>\n",
              "      <td>1</td>\n",
              "      <td>0</td>\n",
              "      <td>0</td>\n",
              "      <td>8</td>\n",
              "    </tr>\n",
              "    <tr>\n",
              "      <th>3</th>\n",
              "      <td>32</td>\n",
              "      <td>2</td>\n",
              "      <td>0</td>\n",
              "      <td>1</td>\n",
              "      <td>0</td>\n",
              "      <td>1</td>\n",
              "      <td>8</td>\n",
              "    </tr>\n",
              "    <tr>\n",
              "      <th>4</th>\n",
              "      <td>32</td>\n",
              "      <td>2</td>\n",
              "      <td>0</td>\n",
              "      <td>0</td>\n",
              "      <td>1</td>\n",
              "      <td>0</td>\n",
              "      <td>8</td>\n",
              "    </tr>\n",
              "    <tr>\n",
              "      <th>...</th>\n",
              "      <td>...</td>\n",
              "      <td>...</td>\n",
              "      <td>...</td>\n",
              "      <td>...</td>\n",
              "      <td>...</td>\n",
              "      <td>...</td>\n",
              "      <td>...</td>\n",
              "    </tr>\n",
              "    <tr>\n",
              "      <th>784</th>\n",
              "      <td>19</td>\n",
              "      <td>2</td>\n",
              "      <td>1</td>\n",
              "      <td>3</td>\n",
              "      <td>1</td>\n",
              "      <td>0</td>\n",
              "      <td>10</td>\n",
              "    </tr>\n",
              "    <tr>\n",
              "      <th>785</th>\n",
              "      <td>19</td>\n",
              "      <td>2</td>\n",
              "      <td>1</td>\n",
              "      <td>3</td>\n",
              "      <td>1</td>\n",
              "      <td>0</td>\n",
              "      <td>16</td>\n",
              "    </tr>\n",
              "    <tr>\n",
              "      <th>786</th>\n",
              "      <td>19</td>\n",
              "      <td>0</td>\n",
              "      <td>1</td>\n",
              "      <td>3</td>\n",
              "      <td>1</td>\n",
              "      <td>0</td>\n",
              "      <td>17</td>\n",
              "    </tr>\n",
              "    <tr>\n",
              "      <th>787</th>\n",
              "      <td>19</td>\n",
              "      <td>0</td>\n",
              "      <td>1</td>\n",
              "      <td>3</td>\n",
              "      <td>1</td>\n",
              "      <td>0</td>\n",
              "      <td>13</td>\n",
              "    </tr>\n",
              "    <tr>\n",
              "      <th>788</th>\n",
              "      <td>19</td>\n",
              "      <td>1</td>\n",
              "      <td>1</td>\n",
              "      <td>3</td>\n",
              "      <td>1</td>\n",
              "      <td>0</td>\n",
              "      <td>1</td>\n",
              "    </tr>\n",
              "  </tbody>\n",
              "</table>\n",
              "<p>789 rows × 7 columns</p>\n",
              "</div>"
            ],
            "text/plain": [
              "     subject_en  tense_en  person_en  ...  animate_en  number_en  verb_root_en\n",
              "0            32         2          0  ...           1          0             8\n",
              "1            32         2          0  ...           1          1             8\n",
              "2            32         2          0  ...           0          0             8\n",
              "3            32         2          0  ...           0          1             8\n",
              "4            32         2          0  ...           1          0             8\n",
              "..          ...       ...        ...  ...         ...        ...           ...\n",
              "784          19         2          1  ...           1          0            10\n",
              "785          19         2          1  ...           1          0            16\n",
              "786          19         0          1  ...           1          0            17\n",
              "787          19         0          1  ...           1          0            13\n",
              "788          19         1          1  ...           1          0             1\n",
              "\n",
              "[789 rows x 7 columns]"
            ]
          },
          "metadata": {
            "tags": []
          },
          "execution_count": 11
        }
      ]
    },
    {
      "cell_type": "code",
      "metadata": {
        "id": "RNekG1S_wZLl",
        "colab_type": "code",
        "outputId": "3ff2b91f-8a5c-48cf-f3c7-3eec939b0725",
        "colab": {
          "base_uri": "https://localhost:8080/",
          "height": 34
        }
      },
      "source": [
        "#subject.inverse_transform([33])\n",
        "#tense.inverse_transform([0])\n",
        "#person.inverse_transform([0])\n",
        "#gender.inverse_transform([1])\n",
        "#animate.inverse_transform([1])\n",
        "#number.inverse_transform([0])\n",
        "verb_root.inverse_transform([18])"
      ],
      "execution_count": 0,
      "outputs": [
        {
          "output_type": "execute_result",
          "data": {
            "text/plain": [
              "array(['ඌහ'], dtype=object)"
            ]
          },
          "metadata": {
            "tags": []
          },
          "execution_count": 12
        }
      ]
    },
    {
      "cell_type": "code",
      "metadata": {
        "id": "jl8as-i-jJv0",
        "colab_type": "code",
        "colab": {}
      },
      "source": [
        "from sklearn import tree"
      ],
      "execution_count": 0,
      "outputs": []
    },
    {
      "cell_type": "code",
      "metadata": {
        "id": "MpE08f99jJv6",
        "colab_type": "code",
        "colab": {}
      },
      "source": [
        "model = tree.DecisionTreeClassifier()\n",
        "\n",
        "from sklearn.model_selection import train_test_split\n",
        "train_X, test_X, train_y, test_y = train_test_split(encoded_inputs, target, test_size=0.3, random_state=1)"
      ],
      "execution_count": 0,
      "outputs": []
    },
    {
      "cell_type": "code",
      "metadata": {
        "id": "MVJkzxqKjJwA",
        "colab_type": "code",
        "outputId": "65e9539b-e7ec-4493-f1da-01bb220010d5",
        "colab": {
          "base_uri": "https://localhost:8080/",
          "height": 119
        }
      },
      "source": [
        "model.fit(train_X,train_y)"
      ],
      "execution_count": 0,
      "outputs": [
        {
          "output_type": "execute_result",
          "data": {
            "text/plain": [
              "DecisionTreeClassifier(class_weight=None, criterion='gini', max_depth=None,\n",
              "                       max_features=None, max_leaf_nodes=None,\n",
              "                       min_impurity_decrease=0.0, min_impurity_split=None,\n",
              "                       min_samples_leaf=1, min_samples_split=2,\n",
              "                       min_weight_fraction_leaf=0.0, presort=False,\n",
              "                       random_state=None, splitter='best')"
            ]
          },
          "metadata": {
            "tags": []
          },
          "execution_count": 15
        }
      ]
    },
    {
      "cell_type": "code",
      "metadata": {
        "id": "tXSqufvSjJwE",
        "colab_type": "code",
        "outputId": "fe154dbd-b8d4-4490-fcb3-eb03b019c28a",
        "colab": {
          "base_uri": "https://localhost:8080/",
          "height": 34
        }
      },
      "source": [
        "model.score(test_X,test_y)"
      ],
      "execution_count": 0,
      "outputs": [
        {
          "output_type": "execute_result",
          "data": {
            "text/plain": [
              "0.8945147679324894"
            ]
          },
          "metadata": {
            "tags": []
          },
          "execution_count": 16
        }
      ]
    },
    {
      "cell_type": "code",
      "metadata": {
        "id": "QtnRnhNtjJwL",
        "colab_type": "code",
        "outputId": "b8aa804e-dbfd-4722-d68d-12307659fa41",
        "colab": {
          "base_uri": "https://localhost:8080/",
          "height": 419
        }
      },
      "source": [
        "test_X\n"
      ],
      "execution_count": 0,
      "outputs": [
        {
          "output_type": "execute_result",
          "data": {
            "text/html": [
              "<div>\n",
              "<style scoped>\n",
              "    .dataframe tbody tr th:only-of-type {\n",
              "        vertical-align: middle;\n",
              "    }\n",
              "\n",
              "    .dataframe tbody tr th {\n",
              "        vertical-align: top;\n",
              "    }\n",
              "\n",
              "    .dataframe thead th {\n",
              "        text-align: right;\n",
              "    }\n",
              "</style>\n",
              "<table border=\"1\" class=\"dataframe\">\n",
              "  <thead>\n",
              "    <tr style=\"text-align: right;\">\n",
              "      <th></th>\n",
              "      <th>subject_en</th>\n",
              "      <th>tense_en</th>\n",
              "      <th>person_en</th>\n",
              "      <th>gender_en</th>\n",
              "      <th>animate_en</th>\n",
              "      <th>number_en</th>\n",
              "      <th>verb_root_en</th>\n",
              "    </tr>\n",
              "  </thead>\n",
              "  <tbody>\n",
              "    <tr>\n",
              "      <th>541</th>\n",
              "      <td>20</td>\n",
              "      <td>2</td>\n",
              "      <td>1</td>\n",
              "      <td>3</td>\n",
              "      <td>1</td>\n",
              "      <td>1</td>\n",
              "      <td>16</td>\n",
              "    </tr>\n",
              "    <tr>\n",
              "      <th>310</th>\n",
              "      <td>30</td>\n",
              "      <td>2</td>\n",
              "      <td>2</td>\n",
              "      <td>1</td>\n",
              "      <td>1</td>\n",
              "      <td>1</td>\n",
              "      <td>22</td>\n",
              "    </tr>\n",
              "    <tr>\n",
              "      <th>763</th>\n",
              "      <td>5</td>\n",
              "      <td>2</td>\n",
              "      <td>1</td>\n",
              "      <td>1</td>\n",
              "      <td>1</td>\n",
              "      <td>1</td>\n",
              "      <td>10</td>\n",
              "    </tr>\n",
              "    <tr>\n",
              "      <th>516</th>\n",
              "      <td>11</td>\n",
              "      <td>2</td>\n",
              "      <td>1</td>\n",
              "      <td>1</td>\n",
              "      <td>1</td>\n",
              "      <td>1</td>\n",
              "      <td>9</td>\n",
              "    </tr>\n",
              "    <tr>\n",
              "      <th>245</th>\n",
              "      <td>9</td>\n",
              "      <td>2</td>\n",
              "      <td>2</td>\n",
              "      <td>1</td>\n",
              "      <td>1</td>\n",
              "      <td>0</td>\n",
              "      <td>9</td>\n",
              "    </tr>\n",
              "    <tr>\n",
              "      <th>...</th>\n",
              "      <td>...</td>\n",
              "      <td>...</td>\n",
              "      <td>...</td>\n",
              "      <td>...</td>\n",
              "      <td>...</td>\n",
              "      <td>...</td>\n",
              "      <td>...</td>\n",
              "    </tr>\n",
              "    <tr>\n",
              "      <th>571</th>\n",
              "      <td>18</td>\n",
              "      <td>2</td>\n",
              "      <td>1</td>\n",
              "      <td>3</td>\n",
              "      <td>1</td>\n",
              "      <td>0</td>\n",
              "      <td>11</td>\n",
              "    </tr>\n",
              "    <tr>\n",
              "      <th>765</th>\n",
              "      <td>5</td>\n",
              "      <td>2</td>\n",
              "      <td>1</td>\n",
              "      <td>1</td>\n",
              "      <td>1</td>\n",
              "      <td>1</td>\n",
              "      <td>8</td>\n",
              "    </tr>\n",
              "    <tr>\n",
              "      <th>701</th>\n",
              "      <td>17</td>\n",
              "      <td>2</td>\n",
              "      <td>1</td>\n",
              "      <td>1</td>\n",
              "      <td>1</td>\n",
              "      <td>1</td>\n",
              "      <td>21</td>\n",
              "    </tr>\n",
              "    <tr>\n",
              "      <th>399</th>\n",
              "      <td>8</td>\n",
              "      <td>2</td>\n",
              "      <td>1</td>\n",
              "      <td>3</td>\n",
              "      <td>1</td>\n",
              "      <td>0</td>\n",
              "      <td>0</td>\n",
              "    </tr>\n",
              "    <tr>\n",
              "      <th>455</th>\n",
              "      <td>15</td>\n",
              "      <td>2</td>\n",
              "      <td>1</td>\n",
              "      <td>3</td>\n",
              "      <td>1</td>\n",
              "      <td>0</td>\n",
              "      <td>23</td>\n",
              "    </tr>\n",
              "  </tbody>\n",
              "</table>\n",
              "<p>237 rows × 7 columns</p>\n",
              "</div>"
            ],
            "text/plain": [
              "     subject_en  tense_en  person_en  ...  animate_en  number_en  verb_root_en\n",
              "541          20         2          1  ...           1          1            16\n",
              "310          30         2          2  ...           1          1            22\n",
              "763           5         2          1  ...           1          1            10\n",
              "516          11         2          1  ...           1          1             9\n",
              "245           9         2          2  ...           1          0             9\n",
              "..          ...       ...        ...  ...         ...        ...           ...\n",
              "571          18         2          1  ...           1          0            11\n",
              "765           5         2          1  ...           1          1             8\n",
              "701          17         2          1  ...           1          1            21\n",
              "399           8         2          1  ...           1          0             0\n",
              "455          15         2          1  ...           1          0            23\n",
              "\n",
              "[237 rows x 7 columns]"
            ]
          },
          "metadata": {
            "tags": []
          },
          "execution_count": 17
        }
      ]
    },
    {
      "cell_type": "code",
      "metadata": {
        "id": "Xzkeiz5qjJwS",
        "colab_type": "code",
        "outputId": "2ff6af2a-7a3e-4039-945b-f178742859ce",
        "colab": {
          "base_uri": "https://localhost:8080/",
          "height": 34
        }
      },
      "source": [
        "print(model.predict([[33,1,0,1,1,0,18]]))"
      ],
      "execution_count": 0,
      "outputs": [
        {
          "output_type": "stream",
          "text": [
            "[0]\n"
          ],
          "name": "stdout"
        }
      ]
    },
    {
      "cell_type": "code",
      "metadata": {
        "id": "TgMZeY1H5mk4",
        "colab_type": "code",
        "outputId": "03d237df-f0f4-412d-f341-82c457f5f742",
        "colab": {
          "base_uri": "https://localhost:8080/",
          "height": 187
        }
      },
      "source": [
        "!pip install polyglot"
      ],
      "execution_count": 0,
      "outputs": [
        {
          "output_type": "stream",
          "text": [
            "Collecting polyglot\n",
            "\u001b[?25l  Downloading https://files.pythonhosted.org/packages/e7/98/e24e2489114c5112b083714277204d92d372f5bbe00d5507acf40370edb9/polyglot-16.7.4.tar.gz (126kB)\n",
            "\r\u001b[K     |██▋                             | 10kB 22.0MB/s eta 0:00:01\r\u001b[K     |█████▏                          | 20kB 6.4MB/s eta 0:00:01\r\u001b[K     |███████▉                        | 30kB 9.0MB/s eta 0:00:01\r\u001b[K     |██████████▍                     | 40kB 11.5MB/s eta 0:00:01\r\u001b[K     |█████████████                   | 51kB 7.2MB/s eta 0:00:01\r\u001b[K     |███████████████▋                | 61kB 8.4MB/s eta 0:00:01\r\u001b[K     |██████████████████▏             | 71kB 9.4MB/s eta 0:00:01\r\u001b[K     |████████████████████▊           | 81kB 10.5MB/s eta 0:00:01\r\u001b[K     |███████████████████████▍        | 92kB 11.5MB/s eta 0:00:01\r\u001b[K     |██████████████████████████      | 102kB 9.2MB/s eta 0:00:01\r\u001b[K     |████████████████████████████▌   | 112kB 9.2MB/s eta 0:00:01\r\u001b[K     |███████████████████████████████▏| 122kB 9.2MB/s eta 0:00:01\r\u001b[K     |████████████████████████████████| 133kB 9.2MB/s \n",
            "\u001b[?25hBuilding wheels for collected packages: polyglot\n",
            "  Building wheel for polyglot (setup.py) ... \u001b[?25l\u001b[?25hdone\n",
            "  Created wheel for polyglot: filename=polyglot-16.7.4-py2.py3-none-any.whl size=52560 sha256=ed5f50300f9386f52b1f0d929f8d5da73e8547786fd4ce5dd116a3eb1abd3bfa\n",
            "  Stored in directory: /root/.cache/pip/wheels/5e/91/ef/f1369fdc1203b0a9347d4b24f149b83a305f39ab047986d9da\n",
            "Successfully built polyglot\n",
            "Installing collected packages: polyglot\n",
            "Successfully installed polyglot-16.7.4\n"
          ],
          "name": "stdout"
        }
      ]
    },
    {
      "cell_type": "code",
      "metadata": {
        "id": "2ZKPgXNi5wx4",
        "colab_type": "code",
        "outputId": "778b9cdb-acd1-4491-ac51-3fc24fb99a92",
        "colab": {
          "base_uri": "https://localhost:8080/",
          "height": 187
        }
      },
      "source": [
        "!pip install PyICU"
      ],
      "execution_count": 0,
      "outputs": [
        {
          "output_type": "stream",
          "text": [
            "Collecting PyICU\n",
            "\u001b[?25l  Downloading https://files.pythonhosted.org/packages/95/0c/0fb09019efb65a29789ec5538f8e521b8f548da6935a3a474e19fbf2ea4d/PyICU-2.4.2.tar.gz (219kB)\n",
            "\r\u001b[K     |█▌                              | 10kB 19.3MB/s eta 0:00:01\r\u001b[K     |███                             | 20kB 7.5MB/s eta 0:00:01\r\u001b[K     |████▌                           | 30kB 10.4MB/s eta 0:00:01\r\u001b[K     |██████                          | 40kB 6.4MB/s eta 0:00:01\r\u001b[K     |███████▌                        | 51kB 7.7MB/s eta 0:00:01\r\u001b[K     |█████████                       | 61kB 9.1MB/s eta 0:00:01\r\u001b[K     |██████████▌                     | 71kB 10.3MB/s eta 0:00:01\r\u001b[K     |████████████                    | 81kB 11.4MB/s eta 0:00:01\r\u001b[K     |█████████████▌                  | 92kB 12.6MB/s eta 0:00:01\r\u001b[K     |███████████████                 | 102kB 10.1MB/s eta 0:00:01\r\u001b[K     |████████████████▍               | 112kB 10.1MB/s eta 0:00:01\r\u001b[K     |██████████████████              | 122kB 10.1MB/s eta 0:00:01\r\u001b[K     |███████████████████▍            | 133kB 10.1MB/s eta 0:00:01\r\u001b[K     |█████████████████████           | 143kB 10.1MB/s eta 0:00:01\r\u001b[K     |██████████████████████▍         | 153kB 10.1MB/s eta 0:00:01\r\u001b[K     |████████████████████████        | 163kB 10.1MB/s eta 0:00:01\r\u001b[K     |█████████████████████████▍      | 174kB 10.1MB/s eta 0:00:01\r\u001b[K     |███████████████████████████     | 184kB 10.1MB/s eta 0:00:01\r\u001b[K     |████████████████████████████▍   | 194kB 10.1MB/s eta 0:00:01\r\u001b[K     |█████████████████████████████▉  | 204kB 10.1MB/s eta 0:00:01\r\u001b[K     |███████████████████████████████▍| 215kB 10.1MB/s eta 0:00:01\r\u001b[K     |████████████████████████████████| 225kB 10.1MB/s \n",
            "\u001b[?25hBuilding wheels for collected packages: PyICU\n",
            "  Building wheel for PyICU (setup.py) ... \u001b[?25l\u001b[?25hdone\n",
            "  Created wheel for PyICU: filename=PyICU-2.4.2-cp36-cp36m-linux_x86_64.whl size=1244988 sha256=af242233b428b79aa7f098f3c82212c0d6ff83a5a7a87fd81bc673a3cfd89b2a\n",
            "  Stored in directory: /root/.cache/pip/wheels/d6/78/89/08a15173ae1905de95ce9a5f55b17259ca5b462ed11a4c068c\n",
            "Successfully built PyICU\n",
            "Installing collected packages: PyICU\n",
            "Successfully installed PyICU-2.4.2\n"
          ],
          "name": "stdout"
        }
      ]
    },
    {
      "cell_type": "code",
      "metadata": {
        "id": "KntoBq358G-K",
        "colab_type": "code",
        "outputId": "b4e62ca9-4c81-4ada-e3e7-21b4a7cf31b7",
        "colab": {
          "base_uri": "https://localhost:8080/",
          "height": 187
        }
      },
      "source": [
        "!pip install pycld2"
      ],
      "execution_count": 0,
      "outputs": [
        {
          "output_type": "stream",
          "text": [
            "Collecting pycld2\n",
            "\u001b[?25l  Downloading https://files.pythonhosted.org/packages/21/d2/8b0def84a53c88d0eb27c67b05269fbd16ad68df8c78849e7b5d65e6aec3/pycld2-0.41.tar.gz (41.4MB)\n",
            "\u001b[K     |████████████████████████████████| 41.4MB 56kB/s \n",
            "\u001b[?25hBuilding wheels for collected packages: pycld2\n",
            "  Building wheel for pycld2 (setup.py) ... \u001b[?25l\u001b[?25hdone\n",
            "  Created wheel for pycld2: filename=pycld2-0.41-cp36-cp36m-linux_x86_64.whl size=9833474 sha256=e44d4e565b7eadd8f9d5f7f3a7925fb210a4e7481b53e1fd852d37f94b1e0b28\n",
            "  Stored in directory: /root/.cache/pip/wheels/c6/8f/e9/08a1a8932a490175bd140206cd86a3dbcfc70498100de11079\n",
            "Successfully built pycld2\n",
            "Installing collected packages: pycld2\n",
            "Successfully installed pycld2-0.41\n"
          ],
          "name": "stdout"
        }
      ]
    },
    {
      "cell_type": "code",
      "metadata": {
        "id": "CfckH7d_XaqM",
        "colab_type": "code",
        "outputId": "c2e7e4a6-e76f-4cb6-dbd6-e1e000a526ad",
        "colab": {
          "base_uri": "https://localhost:8080/",
          "height": 85
        }
      },
      "source": [
        "!pip install morfessor"
      ],
      "execution_count": 0,
      "outputs": [
        {
          "output_type": "stream",
          "text": [
            "Collecting morfessor\n",
            "  Downloading https://files.pythonhosted.org/packages/39/e6/7afea30be2ee4d29ce9de0fa53acbb033163615f849515c0b1956ad074ee/Morfessor-2.0.6-py3-none-any.whl\n",
            "Installing collected packages: morfessor\n",
            "Successfully installed morfessor-2.0.6\n"
          ],
          "name": "stdout"
        }
      ]
    },
    {
      "cell_type": "code",
      "metadata": {
        "id": "qqq15V-gDGUd",
        "colab_type": "code",
        "outputId": "b99796ad-993b-437c-9e8a-2f1ba662adcc",
        "colab": {
          "base_uri": "https://localhost:8080/",
          "height": 51
        }
      },
      "source": [
        "!polyglot download morph2.si"
      ],
      "execution_count": 0,
      "outputs": [
        {
          "output_type": "stream",
          "text": [
            "[polyglot_data] Downloading package morph2.si to\n",
            "[polyglot_data]     /root/polyglot_data...\n"
          ],
          "name": "stdout"
        }
      ]
    },
    {
      "cell_type": "code",
      "metadata": {
        "id": "ukE8ciPBjJwa",
        "colab_type": "code",
        "colab": {}
      },
      "source": [
        "#morphological analyzer\n",
        "import polyglot\n",
        "from polyglot.text import Text,Word\n",
        "\n",
        "#method declaration\n",
        "def POStagged(searchstring):\n",
        "   # print(searchstring)\n",
        "#Declaration of array\n",
        "    z = []\n",
        "    array2D = []\n",
        "\n",
        "#File opening in 2D array\n",
        "    with open(\"/content/drive/My Drive/Research my Work update/simple_sample.txt\",encoding=\"utf-8-sig\") as f:\n",
        "      lines = f.readlines()\n",
        "      for i, line in enumerate(lines):\n",
        "        if 0 < i < len(lines):\n",
        "          array2D.append(line.rstrip(\"\\n\").split(' '))\n",
        "          y = ([z[1] for z in array2D if z[0] == searchstring])\n",
        "          w = ([z[0] for z in array2D if z[0] == searchstring])\n",
        "        #print(y)\n",
        "      print(y)\n",
        "      if not y:\n",
        "        print(\"empty\")\n",
        "      else:\n",
        "        if y[0] == 'PRP':\n",
        "            Noun = w[0]\n",
        "            #print('Pronoun ->',Noun)\n",
        "        elif y[0] == 'NNC':\n",
        "            Common_Noun = w[0]\n",
        "            #print('Common Noun ->',Common_Noun)\n",
        "        if y[0] == 'VFM':\n",
        "            Verb = w[0]\n",
        "            #print('Verb ->',Verb)\n",
        "            words = [Verb]\n",
        "            for w in words:\n",
        "              w = Word(w,language=\"si\")\n",
        "              #print(w)\n",
        "              #print(\"Morphem of word: {:<20}{}\".format(w,w.morphemes))\n",
        "        elif y[0] == 'RB':\n",
        "            Adverb = w[0]\n",
        "            #print('Adverb ->',Adverb)\n",
        "        elif y[0] == 'RP':\n",
        "            Nipatha = w[0]\n",
        "            #print('Nipatha ->',Nipatha)\n",
        "        \n",
        "        return y[0]\n",
        "    return \"Not Found\"\n",
        "\n",
        "#separating white spaces from words and returning words only in an array"
      ],
      "execution_count": 0,
      "outputs": []
    },
    {
      "cell_type": "code",
      "metadata": {
        "id": "P8Wqv4iY3OqN",
        "colab_type": "code",
        "outputId": "accb2f17-d79a-492f-c601-448e797c92ba",
        "colab": {
          "base_uri": "https://localhost:8080/",
          "height": 34
        }
      },
      "source": [
        "  w = \"පූසෝ\"\n",
        "  w = Word(w,language=\"si\")\n",
        "  print(\"Morphem of word: {:<20}{}\".format(w,w.morphemes))"
      ],
      "execution_count": 0,
      "outputs": [
        {
          "output_type": "stream",
          "text": [
            "Morphem of word: පූසෝ                ['පූ', 'සෝ']\n"
          ],
          "name": "stdout"
        }
      ]
    },
    {
      "cell_type": "code",
      "metadata": {
        "id": "gnJPZdJ3w7k0",
        "colab_type": "code",
        "colab": {}
      },
      "source": [
        "## check singularr or plural\n",
        "def isSingular(w):\n",
        "  plural_suffixes = [\"න්\",'ෝ','කරුවන්','වරුන්']\n",
        "  w = Word(w,language=\"si\")\n",
        "\n",
        "  for suffix in plural_suffixes:\n",
        "    if suffix == w.morphemes[1]:\n",
        "      return \"බහු\"\n",
        "  \n",
        "  return \"ඒක\""
      ],
      "execution_count": 0,
      "outputs": []
    },
    {
      "cell_type": "code",
      "metadata": {
        "id": "n5vwMvyY7xtN",
        "colab_type": "code",
        "outputId": "21f284e8-b114-42f8-99e7-b9c81ba367ae",
        "colab": {
          "base_uri": "https://localhost:8080/",
          "height": 34
        }
      },
      "source": [
        "print(isSingular(\"කාන්තාවන්\"))"
      ],
      "execution_count": 0,
      "outputs": [
        {
          "output_type": "stream",
          "text": [
            "බහු\n"
          ],
          "name": "stdout"
        }
      ]
    },
    {
      "cell_type": "code",
      "metadata": {
        "id": "RhyDf2HjDWLE",
        "colab_type": "code",
        "colab": {}
      },
      "source": [
        "#print(POStagged(\"මම\"))\n",
        "import string\n",
        "\n",
        "def posstaggedSentence(sentence):\n",
        "  translator = str.maketrans('', '', string.punctuation)\n",
        "  st = sentence.translate(translator)\n",
        "  new_str = st.split()\n",
        "\n",
        "  q = []\n",
        "  q = new_str\n",
        "  taggedSentence = []\n",
        "  for line in q: \n",
        "    taggedSentence.append(POStagged(line))\n",
        "  print(taggedSentence)"
      ],
      "execution_count": 0,
      "outputs": []
    },
    {
      "cell_type": "code",
      "metadata": {
        "id": "wXP7JjU7MWfn",
        "colab_type": "code",
        "outputId": "d77d6cc5-8db5-462d-eab8-91b45291e5bb",
        "colab": {
          "base_uri": "https://localhost:8080/",
          "height": 68
        }
      },
      "source": [
        "POStagged(\"ගමටkk\")"
      ],
      "execution_count": 60,
      "outputs": [
        {
          "output_type": "stream",
          "text": [
            "[]\n",
            "empty\n"
          ],
          "name": "stdout"
        },
        {
          "output_type": "execute_result",
          "data": {
            "text/plain": [
              "'Not Found'"
            ]
          },
          "metadata": {
            "tags": []
          },
          "execution_count": 60
        }
      ]
    },
    {
      "cell_type": "code",
      "metadata": {
        "id": "RnL_m3gDh3hk",
        "colab_type": "code",
        "outputId": "e4c28742-644b-4aa2-c392-907bf296802a",
        "colab": {
          "base_uri": "https://localhost:8080/",
          "height": 34
        }
      },
      "source": [
        "input_str = \"   මම   ගමට? ගියෙමි'    හරි. ඇය සතුට මෙසේ විස්තර කරන්නී ය.\"\n",
        "translator = str.maketrans('', '', string.punctuation)\n",
        "st = input_str.translate(translator)\n",
        "new_str = st.split()\n",
        "\n",
        "print(new_str)\n",
        "\n",
        "q = []\n",
        "q = new_str\n",
        "for line in q:\n",
        "  #print(line)\n",
        "#calling the method  \n",
        "  POStagged(line)\n",
        "#print(*new_str, sep = \"\\n\")"
      ],
      "execution_count": 0,
      "outputs": [
        {
          "output_type": "stream",
          "text": [
            "['මම', 'ගමට', 'ගියෙමි', 'හරි', 'ඇය', 'සතුට', 'මෙසේ', 'විස්තර', 'කරන්නී', 'ය']\n"
          ],
          "name": "stdout"
        }
      ]
    },
    {
      "cell_type": "code",
      "metadata": {
        "id": "WRb8u8QpyR60",
        "colab_type": "code",
        "colab": {}
      },
      "source": [
        ""
      ],
      "execution_count": 0,
      "outputs": []
    },
    {
      "cell_type": "code",
      "metadata": {
        "id": "xkL9dAW4kTSw",
        "colab_type": "code",
        "outputId": "f2161462-c92a-454b-ea02-3f4a3f1e84e2",
        "colab": {
          "base_uri": "https://localhost:8080/",
          "height": 34
        }
      },
      "source": [
        "## identifying the person of the subject\n",
        "import string\n",
        "\n",
        "q = ['මම','අපි']\n",
        "p = ['තෝ','තී','තොපි','තෙපි','ඔබ','නුඹ','ඔබලා','නුඹලා']\n",
        "#r = 'හෙතම'\n",
        "#r = \"අපි\"\n",
        "#r = \"තී\"\n",
        "#r = \"නුඹලා\"\n",
        "#r = \"හේ\"\n",
        "person_1 = \"උත්තම\"\n",
        "person_2 = \"මධ්‍යම\"\n",
        "person_3 = \"ප්‍රථම\"\n",
        "\n",
        "def person(r):\n",
        "    for line in q:\n",
        "        if(line == r):\n",
        "            return 'Subject ->',line,'Person ->',person_1   \n",
        "    for li in p:\n",
        "        if(li == r):\n",
        "            return 'Subject ->',li,'Person ->',person_2\n",
        "    \n",
        "    return 'Subject ->',r,'Person ->',person_3\n",
        "\n",
        "     \n",
        "person(\"හේ\")"
      ],
      "execution_count": 0,
      "outputs": [
        {
          "output_type": "execute_result",
          "data": {
            "text/plain": [
              "('Subject ->', 'හේ', 'Person ->', 'ප්\\u200dරථම')"
            ]
          },
          "metadata": {
            "tags": []
          },
          "execution_count": 32
        }
      ]
    },
    {
      "cell_type": "code",
      "metadata": {
        "id": "femZtTbSnqhp",
        "colab_type": "code",
        "colab": {}
      },
      "source": [
        ""
      ],
      "execution_count": 0,
      "outputs": []
    }
  ]
}